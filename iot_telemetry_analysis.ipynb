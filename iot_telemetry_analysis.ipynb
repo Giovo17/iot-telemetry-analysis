{
 "cells": [
  {
   "cell_type": "markdown",
   "metadata": {},
   "source": [
    "<a href=\"https://colab.research.google.com/github/Giovo17/iot-telemetry-analysis/blob/main/iot_telemetry_analysis.ipynb\" target=\"_parent\"><img src=\"https://colab.research.google.com/assets/colab-badge.svg\" alt=\"Open In Colab\"/></a>"
   ]
  },
  {
   "cell_type": "markdown",
   "metadata": {},
   "source": [
    "# iot telemetry analysis"
   ]
  },
  {
   "cell_type": "code",
   "execution_count": null,
   "metadata": {},
   "outputs": [],
   "source": [
    "# Importing main libraries\n",
    "library(gamlss)\n",
    "library(gamlss.mx)"
   ]
  },
  {
   "cell_type": "code",
   "execution_count": null,
   "metadata": {},
   "outputs": [],
   "source": [
    "# Import dataset from csv\n",
    "dataset = read.csv(\"https://github.com/Giovo17/iot-telemetry-analysis/blob/main/iot_telemetry_data.csv\")\n",
    "\n",
    "head(dataset, 5)\n",
    "summary(dataset)\n",
    "str(dataset)\n"
   ]
  }
 ],
 "metadata": {
  "kernelspec": {
   "display_name": "Python 3.9.13 ('base')",
   "language": "python",
   "name": "python3"
  },
  "language_info": {
   "codemirror_mode": {
    "name": "ipython",
    "version": 3
   },
   "file_extension": ".py",
   "mimetype": "text/x-python",
   "name": "python",
   "nbconvert_exporter": "python",
   "pygments_lexer": "ipython3",
   "version": "3.9.13"
  },
  "orig_nbformat": 4,
  "vscode": {
   "interpreter": {
    "hash": "ded3dc8edab6adcc636659da92583241f31807ed16ce0259f73c17b87e5077c3"
   }
  }
 },
 "nbformat": 4,
 "nbformat_minor": 2
}
