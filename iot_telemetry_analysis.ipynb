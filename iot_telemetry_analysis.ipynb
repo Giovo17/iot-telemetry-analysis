{
 "cells": [
  {
   "cell_type": "markdown",
   "metadata": {},
   "source": [
    "<a href=\"https://colab.research.google.com/github/Giovo17/iot-telemetry-analysis/blob/main/iot_telemetry_analysis.ipynb\" target=\"_parent\"><img src=\"https://colab.research.google.com/assets/colab-badge.svg\" alt=\"Open In Colab\"/></a>"
   ]
  },
  {
   "cell_type": "markdown",
   "metadata": {},
   "source": [
    "# iot telemetry analysis"
   ]
  },
  {
   "cell_type": "code",
   "execution_count": 1,
   "metadata": {},
   "outputs": [
    {
     "ename": "NameError",
     "evalue": "name 'library' is not defined",
     "output_type": "error",
     "traceback": [
      "\u001b[0;31m---------------------------------------------------------------------------\u001b[0m",
      "\u001b[0;31mNameError\u001b[0m                                 Traceback (most recent call last)",
      "Cell \u001b[0;32mIn [1], line 2\u001b[0m\n\u001b[1;32m      1\u001b[0m \u001b[39m# Importing main libraries\u001b[39;00m\n\u001b[0;32m----> 2\u001b[0m library(anytime)\n\u001b[1;32m      3\u001b[0m library(gamlss)\n\u001b[1;32m      4\u001b[0m library(gamlss\u001b[39m.\u001b[39mmx)\n",
      "\u001b[0;31mNameError\u001b[0m: name 'library' is not defined"
     ]
    }
   ],
   "source": [
    "# Import main libraries\n",
    "library(anytime)\n",
    "library(gamlss)\n",
    "library(gamlss.mx)\n",
    "library(tidyverse)\n",
    "library(gridExtra)\n",
    "library(corrplot)\n",
    "library(cluster)\n",
    "library(kernlab) # Kernel PCA\n",
    "#library(factoextra)\n",
    "#library(mclust)\n",
    "#library(scales)\n",
    "#library(fpc)\n",
    "#library(hamlet)\n",
    "#library(clustertend)\n",
    "#library(NbClust)"
   ]
  },
  {
   "cell_type": "code",
   "execution_count": 4,
   "metadata": {
    "tags": []
   },
   "outputs": [
    {
     "data": {
      "text/html": [
       "<table class=\"dataframe\">\n",
       "<caption>A data.frame: 5 × 9</caption>\n",
       "<thead>\n",
       "\t<tr><th></th><th scope=col>ts</th><th scope=col>device</th><th scope=col>co</th><th scope=col>humidity</th><th scope=col>light</th><th scope=col>lpg</th><th scope=col>motion</th><th scope=col>smoke</th><th scope=col>temp</th></tr>\n",
       "\t<tr><th></th><th scope=col>&lt;dbl&gt;</th><th scope=col>&lt;chr&gt;</th><th scope=col>&lt;dbl&gt;</th><th scope=col>&lt;dbl&gt;</th><th scope=col>&lt;chr&gt;</th><th scope=col>&lt;dbl&gt;</th><th scope=col>&lt;chr&gt;</th><th scope=col>&lt;dbl&gt;</th><th scope=col>&lt;dbl&gt;</th></tr>\n",
       "</thead>\n",
       "<tbody>\n",
       "\t<tr><th scope=row>1</th><td>1594512094</td><td>b8:27:eb:bf:9d:51</td><td>0.004955939</td><td>51.0</td><td>false</td><td>0.007650822</td><td>false</td><td>0.02041127</td><td>22.7</td></tr>\n",
       "\t<tr><th scope=row>2</th><td>1594512095</td><td>00:0f:00:70:91:0a</td><td>0.002840089</td><td>76.0</td><td>false</td><td>0.005114383</td><td>false</td><td>0.01327484</td><td>19.7</td></tr>\n",
       "\t<tr><th scope=row>3</th><td>1594512098</td><td>b8:27:eb:bf:9d:51</td><td>0.004976012</td><td>50.9</td><td>false</td><td>0.007673227</td><td>false</td><td>0.02047513</td><td>22.6</td></tr>\n",
       "\t<tr><th scope=row>4</th><td>1594512100</td><td>1c:bf:ce:15:ec:4d</td><td>0.004403027</td><td>76.8</td><td>true </td><td>0.007023337</td><td>false</td><td>0.01862823</td><td>27.0</td></tr>\n",
       "\t<tr><th scope=row>5</th><td>1594512102</td><td>b8:27:eb:bf:9d:51</td><td>0.004967364</td><td>50.9</td><td>false</td><td>0.007663577</td><td>false</td><td>0.02044762</td><td>22.6</td></tr>\n",
       "</tbody>\n",
       "</table>\n"
      ],
      "text/latex": [
       "A data.frame: 5 × 9\n",
       "\\begin{tabular}{r|lllllllll}\n",
       "  & ts & device & co & humidity & light & lpg & motion & smoke & temp\\\\\n",
       "  & <dbl> & <chr> & <dbl> & <dbl> & <chr> & <dbl> & <chr> & <dbl> & <dbl>\\\\\n",
       "\\hline\n",
       "\t1 & 1594512094 & b8:27:eb:bf:9d:51 & 0.004955939 & 51.0 & false & 0.007650822 & false & 0.02041127 & 22.7\\\\\n",
       "\t2 & 1594512095 & 00:0f:00:70:91:0a & 0.002840089 & 76.0 & false & 0.005114383 & false & 0.01327484 & 19.7\\\\\n",
       "\t3 & 1594512098 & b8:27:eb:bf:9d:51 & 0.004976012 & 50.9 & false & 0.007673227 & false & 0.02047513 & 22.6\\\\\n",
       "\t4 & 1594512100 & 1c:bf:ce:15:ec:4d & 0.004403027 & 76.8 & true  & 0.007023337 & false & 0.01862823 & 27.0\\\\\n",
       "\t5 & 1594512102 & b8:27:eb:bf:9d:51 & 0.004967364 & 50.9 & false & 0.007663577 & false & 0.02044762 & 22.6\\\\\n",
       "\\end{tabular}\n"
      ],
      "text/markdown": [
       "\n",
       "A data.frame: 5 × 9\n",
       "\n",
       "| <!--/--> | ts &lt;dbl&gt; | device &lt;chr&gt; | co &lt;dbl&gt; | humidity &lt;dbl&gt; | light &lt;chr&gt; | lpg &lt;dbl&gt; | motion &lt;chr&gt; | smoke &lt;dbl&gt; | temp &lt;dbl&gt; |\n",
       "|---|---|---|---|---|---|---|---|---|---|\n",
       "| 1 | 1594512094 | b8:27:eb:bf:9d:51 | 0.004955939 | 51.0 | false | 0.007650822 | false | 0.02041127 | 22.7 |\n",
       "| 2 | 1594512095 | 00:0f:00:70:91:0a | 0.002840089 | 76.0 | false | 0.005114383 | false | 0.01327484 | 19.7 |\n",
       "| 3 | 1594512098 | b8:27:eb:bf:9d:51 | 0.004976012 | 50.9 | false | 0.007673227 | false | 0.02047513 | 22.6 |\n",
       "| 4 | 1594512100 | 1c:bf:ce:15:ec:4d | 0.004403027 | 76.8 | true  | 0.007023337 | false | 0.01862823 | 27.0 |\n",
       "| 5 | 1594512102 | b8:27:eb:bf:9d:51 | 0.004967364 | 50.9 | false | 0.007663577 | false | 0.02044762 | 22.6 |\n",
       "\n"
      ],
      "text/plain": [
       "  ts         device            co          humidity light lpg         motion\n",
       "1 1594512094 b8:27:eb:bf:9d:51 0.004955939 51.0     false 0.007650822 false \n",
       "2 1594512095 00:0f:00:70:91:0a 0.002840089 76.0     false 0.005114383 false \n",
       "3 1594512098 b8:27:eb:bf:9d:51 0.004976012 50.9     false 0.007673227 false \n",
       "4 1594512100 1c:bf:ce:15:ec:4d 0.004403027 76.8     true  0.007023337 false \n",
       "5 1594512102 b8:27:eb:bf:9d:51 0.004967364 50.9     false 0.007663577 false \n",
       "  smoke      temp\n",
       "1 0.02041127 22.7\n",
       "2 0.01327484 19.7\n",
       "3 0.02047513 22.6\n",
       "4 0.01862823 27.0\n",
       "5 0.02044762 22.6"
      ]
     },
     "metadata": {},
     "output_type": "display_data"
    }
   ],
   "source": [
    "# Import dataset from csv\n",
    "\n",
    "# Online from github repo\n",
    "#df = read.csv('https://raw.githubusercontent.com/Giovo17/iot-telemetry-analysis/main/iot_telemetry_data.csv')\n",
    "\n",
    "# Local from disk\n",
    "setwd(\"~/Documents/University/Data\\ Science/1°\\ Year\\ (2022-2023)/Data\\ Analysis\\ (1)/Exam\\ -\\ Data\\ Analysis/Report/iot-telemetry-analysis\")\n",
    "df = read.csv(\"iot_telemetry_data.csv\")\n",
    "\n",
    "head(df,5)"
   ]
  },
  {
   "cell_type": "code",
   "execution_count": 5,
   "metadata": {},
   "outputs": [
    {
     "name": "stdout",
     "output_type": "stream",
     "text": [
      "'data.frame':\t405184 obs. of  9 variables:\n",
      " $ ts      : num  1.59e+09 1.59e+09 1.59e+09 1.59e+09 1.59e+09 ...\n",
      " $ device  : chr  \"b8:27:eb:bf:9d:51\" \"00:0f:00:70:91:0a\" \"b8:27:eb:bf:9d:51\" \"1c:bf:ce:15:ec:4d\" ...\n",
      " $ co      : num  0.00496 0.00284 0.00498 0.0044 0.00497 ...\n",
      " $ humidity: num  51 76 50.9 76.8 50.9 ...\n",
      " $ light   : chr  \"false\" \"false\" \"false\" \"true\" ...\n",
      " $ lpg     : num  0.00765 0.00511 0.00767 0.00702 0.00766 ...\n",
      " $ motion  : chr  \"false\" \"false\" \"false\" \"false\" ...\n",
      " $ smoke   : num  0.0204 0.0133 0.0205 0.0186 0.0204 ...\n",
      " $ temp    : num  22.7 19.7 22.6 27 22.6 ...\n"
     ]
    }
   ],
   "source": [
    "str(df)"
   ]
  },
  {
   "cell_type": "code",
   "execution_count": 6,
   "metadata": {},
   "outputs": [
    {
     "data": {
      "text/plain": [
       "       ts               device                co              humidity    \n",
       " Min.   :1.595e+09   Length:405184      Min.   :0.001171   Min.   : 1.10  \n",
       " 1st Qu.:1.595e+09   Class :character   1st Qu.:0.003919   1st Qu.:51.00  \n",
       " Median :1.595e+09   Mode  :character   Median :0.004812   Median :54.90  \n",
       " Mean   :1.595e+09                      Mean   :0.004639   Mean   :60.51  \n",
       " 3rd Qu.:1.595e+09                      3rd Qu.:0.005409   3rd Qu.:74.30  \n",
       " Max.   :1.595e+09                      Max.   :0.014420   Max.   :99.90  \n",
       "    light                lpg              motion              smoke         \n",
       " Length:405184      Min.   :0.002693   Length:405184      Min.   :0.006692  \n",
       " Class :character   1st Qu.:0.006456   Class :character   1st Qu.:0.017024  \n",
       " Mode  :character   Median :0.007489   Mode  :character   Median :0.019950  \n",
       "                    Mean   :0.007237                      Mean   :0.019264  \n",
       "                    3rd Qu.:0.008150                      3rd Qu.:0.021838  \n",
       "                    Max.   :0.016567                      Max.   :0.046590  \n",
       "      temp      \n",
       " Min.   : 0.00  \n",
       " 1st Qu.:19.90  \n",
       " Median :22.20  \n",
       " Mean   :22.45  \n",
       " 3rd Qu.:23.60  \n",
       " Max.   :30.60  "
      ]
     },
     "metadata": {},
     "output_type": "display_data"
    }
   ],
   "source": [
    "summary(df)"
   ]
  },
  {
   "cell_type": "code",
   "execution_count": 4,
   "metadata": {},
   "outputs": [
    {
     "name": "stdout",
     "output_type": "stream",
     "text": [
      "'data.frame':\t405184 obs. of  9 variables:\n",
      " $ ts      : num  1.59e+09 1.59e+09 1.59e+09 1.59e+09 1.59e+09 ...\n",
      " $ device  : chr  \"b8:27:eb:bf:9d:51\" \"00:0f:00:70:91:0a\" \"b8:27:eb:bf:9d:51\" \"1c:bf:ce:15:ec:4d\" ...\n",
      " $ co      : num  0.00496 0.00284 0.00498 0.0044 0.00497 ...\n",
      " $ humidity: num  51 76 50.9 76.8 50.9 ...\n",
      " $ light   : chr  \"false\" \"false\" \"false\" \"true\" ...\n",
      " $ lpg     : num  0.00765 0.00511 0.00767 0.00702 0.00766 ...\n",
      " $ motion  : chr  \"false\" \"false\" \"false\" \"false\" ...\n",
      " $ smoke   : num  0.0204 0.0133 0.0205 0.0186 0.0204 ...\n",
      " $ temp    : num  22.7 19.7 22.6 27 22.6 ...\n"
     ]
    }
   ],
   "source": []
  },
  {
   "cell_type": "markdown",
   "metadata": {},
   "source": [
    "Converting ts from epochs to timestamps"
   ]
  },
  {
   "cell_type": "code",
   "execution_count": 5,
   "metadata": {},
   "outputs": [
    {
     "data": {
      "text/plain": [
       "[1] \"2020-07-12 02:01:34 CEST\" \"2020-07-12 02:01:34 CEST\"\n",
       "[3] \"2020-07-12 02:01:38 CEST\" \"2020-07-12 02:01:39 CEST\"\n",
       "[5] \"2020-07-12 02:01:41 CEST\""
      ]
     },
     "metadata": {},
     "output_type": "display_data"
    }
   ],
   "source": [
    "df[,1] = anytime(df[,1])\n",
    "head(df[,1],5)"
   ]
  },
  {
   "cell_type": "code",
   "execution_count": null,
   "metadata": {},
   "outputs": [],
   "source": []
  },
  {
   "cell_type": "code",
   "execution_count": null,
   "metadata": {},
   "outputs": [],
   "source": []
  },
  {
   "cell_type": "code",
   "execution_count": null,
   "metadata": {},
   "outputs": [],
   "source": []
  },
  {
   "cell_type": "code",
   "execution_count": null,
   "metadata": {},
   "outputs": [],
   "source": []
  },
  {
   "cell_type": "markdown",
   "metadata": {},
   "source": [
    "## Univariate Analysis"
   ]
  },
  {
   "cell_type": "code",
   "execution_count": null,
   "metadata": {},
   "outputs": [],
   "source": []
  },
  {
   "cell_type": "code",
   "execution_count": null,
   "metadata": {},
   "outputs": [],
   "source": []
  },
  {
   "cell_type": "markdown",
   "metadata": {},
   "source": [
    "## Dimensionality Reduction"
   ]
  },
  {
   "cell_type": "markdown",
   "metadata": {},
   "source": [
    "### PCA"
   ]
  },
  {
   "cell_type": "code",
   "execution_count": null,
   "metadata": {},
   "outputs": [],
   "source": []
  },
  {
   "cell_type": "markdown",
   "metadata": {},
   "source": [
    "### Logistic PCA"
   ]
  },
  {
   "cell_type": "code",
   "execution_count": null,
   "metadata": {},
   "outputs": [],
   "source": []
  },
  {
   "cell_type": "markdown",
   "metadata": {},
   "source": [
    "### Kernel PCA"
   ]
  },
  {
   "cell_type": "code",
   "execution_count": null,
   "metadata": {},
   "outputs": [],
   "source": [
    "# https://medium.com/mlearning-ai/what-is-kernel-pca-using-r-python-4864c2471e62\n",
    "\n",
    "kpca = kpca(~., data = training_set[-14], kernel = 'rbfdot', features = 2)\n",
    "training_set_pca = as.data.frame(predict(kpca, training_set))\n",
    "head(training_set_pca)\n",
    "training_set_pca$Customer_Segment = training_set$Customer_Segment\n",
    "test_set_pca = as.data.frame(predict(kpca, test_set))\n",
    "test_set_pca$Customer_Segment = test_set$Customer_Segment"
   ]
  },
  {
   "cell_type": "markdown",
   "metadata": {},
   "source": [
    "## Clustering"
   ]
  },
  {
   "cell_type": "code",
   "execution_count": null,
   "metadata": {},
   "outputs": [],
   "source": []
  },
  {
   "cell_type": "code",
   "execution_count": null,
   "metadata": {},
   "outputs": [],
   "source": [
    "# Clustering mixed data: https://medium.com/analytics-vidhya/the-ultimate-guide-for-clustering-mixed-data-1eefa0b4743b"
   ]
  },
  {
   "cell_type": "markdown",
   "metadata": {},
   "source": [
    "### Hierarchical clustering"
   ]
  },
  {
   "cell_type": "code",
   "execution_count": null,
   "metadata": {},
   "outputs": [],
   "source": [
    "# Dendogram visualization: https://r-graph-gallery.com/dendrogram.html"
   ]
  },
  {
   "cell_type": "code",
   "execution_count": null,
   "metadata": {},
   "outputs": [],
   "source": []
  }
 ],
 "metadata": {
  "kernelspec": {
   "display_name": "base",
   "language": "python",
   "name": "python3"
  },
  "language_info": {
   "codemirror_mode": {
    "name": "ipython",
    "version": 3
   },
   "file_extension": ".py",
   "mimetype": "text/x-python",
   "name": "python",
   "nbconvert_exporter": "python",
   "pygments_lexer": "ipython3",
   "version": "3.10.8 | packaged by conda-forge | (main, Nov 22 2022, 08:25:29) [Clang 14.0.6 ]"
  },
  "vscode": {
   "interpreter": {
    "hash": "a07aea05b432a8a7d232c3c2e53d4227c52706cbf21de38142e7697a00c1bda6"
   }
  }
 },
 "nbformat": 4,
 "nbformat_minor": 4
}
